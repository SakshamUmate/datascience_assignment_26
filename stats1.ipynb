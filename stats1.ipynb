{
 "cells": [
  {
   "cell_type": "markdown",
   "metadata": {},
   "source": [
    "#### Q1. What are the three measures of central tendency?"
   ]
  },
  {
   "cell_type": "markdown",
   "metadata": {},
   "source": [
    "#### ans:\n",
    "The three measures of central tendency are:\n",
    "\n",
    "Mean (Arithmetic Average): The sum of all the data points divided by the number of data points.\n",
    "\n",
    "Median: The middle value when the data points are arranged in ascending or descending order. If the number of data points is even, the median is the average of the two middle numbers.\n",
    "\n",
    "Mode: The value that appears most frequently in the data set. A set of data may have one mode, more than one mode, or no mode at all if no value repeats."
   ]
  },
  {
   "cell_type": "markdown",
   "metadata": {},
   "source": [
    "#### Q2. What is the difference between the mean, median, and mode? How are they used to measure the central tendency of a dataset?"
   ]
  },
  {
   "cell_type": "markdown",
   "metadata": {},
   "source": [
    "#### Measures of Central Tendency\n",
    "\n",
    "### Mean, Median, and Mode\n",
    "\n",
    "### Mean\n",
    "The mean is the arithmetic average of a dataset. It is calculated by adding all the data points together and then dividing by the number of data points.\n",
    "\n",
    "**Formula**: \n",
    "\\[ \\text{Mean} = \\frac{\\sum_{i=1}^n x_i}{n} \\]\n",
    "where \\( x_i \\) are the data points and \\( n \\) is the number of data points.\n",
    "\n",
    "### Median\n",
    "The median is the middle value of a dataset when it is ordered from smallest to largest. If the dataset has an even number of observations, the median is the average of the two middle numbers.\n",
    "\n",
    "### Mode\n",
    "The mode is the value that appears most frequently in a dataset. A dataset can have one mode (unimodal), more than one mode (bimodal or multimodal), or no mode if no value repeats.\n",
    "\n",
    "### Differences and Usage\n",
    "\n",
    "- **Mean**: Best used for datasets that are normally distributed and where every data point is relevant to the average. Sensitive to outliers and skewed data.\n",
    "- **Median**: Best used for skewed distributions or when there are outliers, providing a central value that better represents the majority of the data.\n",
    "- **Mode**: Best used for categorical data or for identifying the most common value in a dataset.\n",
    "\n",
    "### Example Calculation\n",
    "\n",
    "Consider the dataset: \\( [1, 2, 2, 3, 4, 7, 9] \\).\n",
    "\n",
    "We will calculate the mean, median, and mode using Python.\n"
   ]
  },
  {
   "cell_type": "code",
   "execution_count": 1,
   "metadata": {},
   "outputs": [
    {
     "name": "stdout",
     "output_type": "stream",
     "text": [
      "5.5\n",
      "5.5\n",
      "ModeResult(mode=1, count=1)\n"
     ]
    }
   ],
   "source": [
    "from scipy import stats\n",
    "import numpy as np \n",
    "\n",
    "list=[1,2,3,4,5,6,7,8,9,10]\n",
    "\n",
    "print(np.mean(list))\n",
    "print(np.median(list))\n",
    "print(stats.mode(list))"
   ]
  },
  {
   "cell_type": "markdown",
   "metadata": {},
   "source": [
    "#### Q3. Measure the three measures of central tendency for the given height data:\n",
    "[178,177,176,177,178.2,178,175,179,180,175,178.9,176.2,177,172.5,178,176.5]"
   ]
  },
  {
   "cell_type": "code",
   "execution_count": 2,
   "metadata": {},
   "outputs": [
    {
     "name": "stdout",
     "output_type": "stream",
     "text": [
      "177.01875\n",
      "177.0\n",
      "ModeResult(mode=177.0, count=3)\n"
     ]
    }
   ],
   "source": [
    "h=[178,177,176,177,178.2,178,175,179,180,175,178.9,176.2,177,172.5,178,176.5]\n",
    "print(np.mean(h))\n",
    "print(np.median(h))\n",
    "print(stats.mode(h))\n"
   ]
  },
  {
   "cell_type": "markdown",
   "metadata": {},
   "source": [
    "#### Results\n",
    "- **Mean**: \\( \\text{Mean} = 177.01875 \\)\n",
    "- **Median**: \\( \\text{Median} = 177 \\)\n",
    "- **Mode**: \\( \\text{Mode} = 177 \\)\n",
    "\n",
    "In this example:\n",
    "- The mean height is approximately 177.018.\n",
    "- The median height is 177, indicating the middle value of the ordered data.\n",
    "- The mode height is 177, indicating the most frequently occurring height in the dataset.\n"
   ]
  },
  {
   "cell_type": "markdown",
   "metadata": {},
   "source": [
    "#### Q4. Find the standard deviation for the given data:\n",
    "[178,177,176,177,178.2,178,175,179,180,175,178.9,176.2,177,172.5,178,176.5]"
   ]
  },
  {
   "cell_type": "code",
   "execution_count": 3,
   "metadata": {},
   "outputs": [
    {
     "data": {
      "text/plain": [
       "1.7885814036548633"
      ]
     },
     "execution_count": 3,
     "metadata": {},
     "output_type": "execute_result"
    }
   ],
   "source": [
    "np.std(h)"
   ]
  },
  {
   "cell_type": "markdown",
   "metadata": {},
   "source": [
    "#### Result\n",
    "- **Standard Deviation**: \\( \\text{Standard Deviation} \\approx 1.788 \\)\n",
    "\n",
    "The standard deviation is approximately 1.788, indicating the amount of variation or dispersion from the average height.\n"
   ]
  },
  {
   "cell_type": "markdown",
   "metadata": {},
   "source": [
    "#### Q5. How are measures of dispersion such as range, variance, and standard deviation used to describe the spread of a dataset? Provide an example."
   ]
  },
  {
   "cell_type": "markdown",
   "metadata": {},
   "source": [
    "# Measures of Dispersion\n",
    "\n",
    "Measures of dispersion such as range, variance, and standard deviation provide insights into the spread or variability of a dataset. Here's how each measure is used:\n",
    "\n",
    "### Range\n",
    "The range is the simplest measure of dispersion and is calculated as the difference between the maximum and minimum values in a dataset.\n",
    "\n",
    "**Formula**:\n",
    "\\[ \\text{Range} = \\text{Maximum value} - \\text{Minimum value} \\]\n",
    "\n",
    "**Usage**:\n",
    "- The range gives a quick sense of the spread of the data.\n",
    "- It is very sensitive to outliers since it only considers the extreme values.\n",
    "\n",
    "### Variance\n",
    "Variance measures the average squared deviation of each data point from the mean. It quantifies how spread out the data points are.\n",
    "\n",
    "**Formula**:\n",
    "\\[ \\text{Variance} (\\sigma^2) = \\frac{\\sum_{i=1}^n (x_i - \\mu)^2}{n} \\]\n",
    "where \\( x_i \\) are the data points, \\( \\mu \\) is the mean, and \\( n \\) is the number of data points.\n",
    "\n",
    "**Usage**:\n",
    "- Variance provides a measure of how much the data points are spread out around the mean.\n",
    "- It is expressed in squared units of the data, making it less interpretable directly in the context of the original data.\n",
    "\n",
    "### Standard Deviation\n",
    "Standard deviation is the square root of the variance, providing a measure of dispersion in the same units as the original data.\n",
    "\n",
    "**Formula**:\n",
    "\\[ \\text{Standard Deviation} (\\sigma) = \\sqrt{\\frac{\\sum_{i=1}^n (x_i - \\mu)^2}{n}} \\]\n",
    "\n",
    "**Usage**:\n",
    "- Standard deviation is easier to interpret than variance because it is in the same units as the original data.\n",
    "- It indicates how much the data points typically deviate from the mean.\n",
    "\n",
    "### Example\n",
    "\n",
    "Consider the dataset: \\( [178, 177, 176, 177, 178.2, 178, 175, 179, 180, 175, 178.9, 176.2, 177, 172.5, 178, 176.5] \\).\n",
    "\n",
    "We will calculate the range, variance, and standard deviation using Python.\n",
    "\n",
    "\n"
   ]
  },
  {
   "cell_type": "code",
   "execution_count": 12,
   "metadata": {},
   "outputs": [
    {
     "name": "stdout",
     "output_type": "stream",
     "text": [
      "7.5 3.199023437500001 1.7885814036548633\n"
     ]
    }
   ],
   "source": [
    "import numpy as np \n",
    "\n",
    "h = [178, 177, 176, 177, 178.2, 178, 175, 179, 180, 175, 178.9, 176.2, 177, 172.5, 178, 176.5]\n",
    "range_h=np.ptp(h)\n",
    "var_h=np.var(h)\n",
    "std_h=np.std(h)\n",
    "\n",
    "print(range_h ,var_h,std_h)"
   ]
  },
  {
   "cell_type": "markdown",
   "metadata": {},
   "source": [
    "#### Q5. How are measures of dispersion such as range, variance, and standard deviation used to describe\n",
    "the spread of a dataset? Provide an example."
   ]
  },
  {
   "cell_type": "markdown",
   "metadata": {},
   "source": [
    "#### Venn Diagram\n",
    "\n",
    "A Venn diagram is a graphical representation used to illustrate the relationships between different sets. It consists of overlapping circles, each representing a set. The areas where the circles overlap represent the elements that are common to the sets, while the non-overlapping areas represent elements that are unique to each set.\n",
    "\n",
    "##### Key Features of a Venn Diagram\n",
    "- **Circles**: Each circle represents a set.\n",
    "- **Overlapping Areas**: These areas show the intersection of sets, where elements are common to the sets.\n",
    "- **Non-Overlapping Areas**: These areas represent elements that are unique to a particular set.\n",
    "- **Universal Set**: Sometimes, a rectangle encloses all the circles, representing the universal set that contains all possible elements under consideration.\n",
    "\n",
    "##### Usage\n",
    "Venn diagrams are commonly used in various fields such as mathematics, statistics, logic, and computer science to:\n",
    "- Illustrate simple set relationships.\n",
    "- Visualize logical relationships and operations.\n",
    "- Solve problems involving sets and subsets.\n",
    "- Demonstrate the intersection, union, and complement of sets.\n",
    "\n",
    "##### Example\n",
    "Consider the sets:\n",
    "- \\( A \\): {1, 2, 3, 4}\n",
    "- \\( B \\): {3, 4, 5, 6}\n",
    "\n",
    "The Venn diagram for these sets would have two overlapping circles. The overlap would contain the elements {3, 4}, which are common to both sets.\n",
    "\n"
   ]
  },
  {
   "cell_type": "markdown",
   "metadata": {},
   "source": [
    "#### Q7. For the two given sets A = (2,3,4,5,6,7) & B = (0,2,6,8,10). Find:\n",
    "(i) A B\n",
    "(ii) A ⋃ B"
   ]
  },
  {
   "cell_type": "markdown",
   "metadata": {},
   "source": [
    "Intersection of A with B is {2, 6}\n",
    "\n",
    "Union of both sets is {0, 2, 3, 4, 5, 6, 7, 8, 10}\n"
   ]
  },
  {
   "cell_type": "code",
   "execution_count": 14,
   "metadata": {},
   "outputs": [
    {
     "name": "stdout",
     "output_type": "stream",
     "text": [
      "{0, 2, 3, 4, 5, 6, 7, 8, 10}\n",
      "{2, 6}\n"
     ]
    }
   ],
   "source": [
    "A={2,3,4,5,6,7}\n",
    "B={0,2,6,8,10}\n",
    "print(A.union(B))\n",
    "print(A.intersection(B))"
   ]
  },
  {
   "cell_type": "markdown",
   "metadata": {},
   "source": [
    "#### Q8. What do you understand about skewness in data?\n"
   ]
  },
  {
   "cell_type": "markdown",
   "metadata": {},
   "source": [
    "#### Skewness in Data\n",
    "\n",
    "##### Definition\n",
    "Skewness is a measure of the asymmetry of the probability distribution of a real-valued random variable about its mean. It indicates whether the data points in a dataset are skewed to the left (negatively skewed) or to the right (positively skewed).\n",
    "\n",
    "##### Types of Skewness\n",
    "\n",
    "##### 1. **Positive Skewness (Right Skewed)**\n",
    "- **Description**: In a positively skewed distribution, the tail on the right side of the distribution is longer or fatter than the left side.\n",
    "- **Characteristics**: The mean is greater than the median.\n",
    "- **Example**: Income distribution, where a small number of people earn significantly higher incomes compared to the majority.\n",
    "\n",
    "##### 2. **Negative Skewness (Left Skewed)**\n",
    "- **Description**: In a negatively skewed distribution, the tail on the left side of the distribution is longer or fatter than the right side.\n",
    "- **Characteristics**: The mean is less than the median.\n",
    "- **Example**: Age at retirement, where most people retire around a common age but a few retire much earlier.\n",
    "\n",
    "##### 3. **Zero Skewness (Symmetrical)**\n",
    "- **Description**: In a perfectly symmetrical distribution, the tails on both sides of the distribution are of equal length.\n",
    "- **Characteristics**: The mean and median are equal.\n",
    "- **Example**: A normal distribution.\n",
    "\n",
    "##### Importance of Skewness\n",
    "Understanding skewness in data is crucial for several reasons:\n",
    "- **Data Analysis**: Helps in understanding the distribution and central tendency of the data.\n",
    "- **Statistical Modeling**: Many statistical methods assume normally distributed data. Knowing the skewness helps in choosing the appropriate statistical tests.\n",
    "- **Decision Making**: Provides insights into potential biases and informs better decision-making processes.\n",
    "\n",
    "##### Calculation\n",
    "Skewness can be calculated using the following formula:\n",
    "\n",
    "\\[ \\text{Skewness} = \\frac{n}{(n-1)(n-2)} \\sum_{i=1}^{n} \\left( \\frac{x_i - \\bar{x}}{s} \\right)^3 \\]\n",
    "\n",
    "where \\( n \\) is the number of observations, \\( x_i \\) are the data points, \\( \\bar{x} \\) is the mean, and \\( s \\) is the standard deviation.\n",
    "\n",
    "##### Example\n",
    "Consider the dataset: \\( [1, 2, 3, 4, 5, 6, 7, 8, 9, 10] \\).\n",
    "\n",
    "We will calculate the skewness using Python.\n",
    "\n",
    "\n"
   ]
  },
  {
   "cell_type": "code",
   "execution_count": 19,
   "metadata": {},
   "outputs": [
    {
     "name": "stdout",
     "output_type": "stream",
     "text": [
      "0.0\n",
      "2.7937162913590363\n",
      "-2.8039521904862164\n"
     ]
    }
   ],
   "source": [
    "\n",
    "import numpy as np\n",
    "from scipy.stats import skew\n",
    "\n",
    "data = [1, 2, 3, 4, 5, 6, 7, 8, 9, 10]\n",
    "data1 = [1, 2, 3, 4, 5, 6, 7, 8, 9, 10,100]\n",
    "data2 = [1, 2, 3, 4, 5, 6, 7, 8, 9, 10,-100]\n",
    "skewness= skew(data)\n",
    "print(skewness)\n",
    "\n",
    "skewness1= skew(data1)\n",
    "print(skewness1)\n",
    "\n",
    "skewness2= skew(data2)\n",
    "print(skewness2)"
   ]
  },
  {
   "cell_type": "markdown",
   "metadata": {},
   "source": [
    "#### Q9. If a data is right skewed then what will be the position of median with respect to mean?"
   ]
  },
  {
   "cell_type": "markdown",
   "metadata": {},
   "source": [
    "#### Relationship Between Median and Mean in Right-Skewed Data\n",
    "\n",
    "##### Definition\n",
    "When a dataset is right-skewed (positively skewed), the distribution has a longer tail on the right side. This means that there are a few higher values that stretch out the tail on the right.\n",
    "\n",
    "##### Position of Median with Respect to Mean\n",
    "In a right-skewed distribution:\n",
    "- **Mean**: The mean is affected by the extreme values (outliers) on the right, pulling it towards the tail.\n",
    "- **Median**: The median is the middle value when the data is ordered, making it less sensitive to extreme values.\n",
    "\n",
    "###### Relationship\n",
    "- **Mean > Median**\n",
    "\n",
    "In a right-skewed distribution, the mean is typically greater than the median because the higher values on the right side increase the average more than the median.\n",
    "\n",
    "##### Illustration\n",
    "Consider a right-skewed dataset:\n",
    "\\[ [1, 2, 3, 4, 5, 6, 7, 8, 20] \\]\n",
    "\n",
    "##### Calculation\n",
    "We will calculate the mean and median using Python to illustrate their positions.\n",
    "\n",
    "\n"
   ]
  },
  {
   "cell_type": "code",
   "execution_count": 20,
   "metadata": {},
   "outputs": [
    {
     "data": {
      "text/plain": [
       "(6.222222222222222, 5.0)"
      ]
     },
     "execution_count": 20,
     "metadata": {},
     "output_type": "execute_result"
    }
   ],
   "source": [
    "import numpy as np\n",
    "\n",
    "data = [1, 2, 3, 4, 5, 6, 7, 8, 20]\n",
    "\n",
    "# Mean\n",
    "mean_data = np.mean(data)\n",
    "\n",
    "# Median\n",
    "median_data = np.median(data)\n",
    "\n",
    "mean_data, median_data"
   ]
  },
  {
   "cell_type": "markdown",
   "metadata": {},
   "source": [
    "#### Q10. Explain the difference between covariance and correlation. How are these measures used in statistical analysis?"
   ]
  },
  {
   "cell_type": "markdown",
   "metadata": {},
   "source": [
    "#### Covariance vs. Correlation\n",
    "\n",
    "#### Covariance\n",
    "\n",
    "#### Definition\n",
    "Covariance is a measure of how much two random variables vary together. If the variables tend to show similar behavior (both increasing or both decreasing), the covariance is positive. If one variable tends to increase when the other decreases, the covariance is negative.\n",
    "\n",
    "#### Formula\n",
    "For two random variables \\( X \\) and \\( Y \\), the covariance is given by:\n",
    "\n",
    "Cov(X, Y) = Σ [(xi - μx) * (yi - μy)] / (n - 1)\n",
    "\n",
    "\n",
    "#### Interpretation\n",
    "- **Positive Covariance**: Indicates that the two variables tend to increase or decrease together.\n",
    "- **Negative Covariance**: Indicates that one variable tends to increase when the other decreases.\n",
    "- **Magnitude**: The magnitude of covariance depends on the scale of the variables, making it difficult to interpret the strength of the relationship.\n",
    "\n",
    "#### Correlation\n",
    "\n",
    "#### Definition\n",
    "Correlation is a standardized measure of the relationship between two variables, ranging from -1 to 1. It is a dimensionless measure that provides both the direction and strength of the relationship.\n",
    "\n",
    "#### Formula\n",
    "The Pearson correlation coefficient for two random variables \\( X \\) and \\( Y \\) is given by:\n",
    "\n",
    "ρ(X, Y) = Cov(X, Y) / (σx * σy)\n",
    "\n",
    "#### Interpretation\n",
    "- **+1**: Perfect positive linear relationship.\n",
    "- **-1**: Perfect negative linear relationship.\n",
    "- **0**: No linear relationship.\n",
    "- **Strength**: The closer the correlation is to ±1, the stronger the relationship.\n",
    "\n",
    "#### Key Differences\n",
    "\n",
    "#### Scale\n",
    "- **Covariance**: Depends on the units of the variables and is not standardized.\n",
    "- **Correlation**: Standardized and dimensionless, making it easier to compare relationships between different pairs of variables.\n",
    "\n",
    "#### Range\n",
    "- **Covariance**: Can take any value between \\(-\\infty\\) and \\(+\\infty\\).\n",
    "- **Correlation**: Ranges from -1 to 1.\n",
    "\n",
    "#### Interpretation\n",
    "- **Covariance**: Provides direction of the relationship but the magnitude is difficult to interpret.\n",
    "- **Correlation**: Provides both direction and strength of the relationship.\n",
    "\n",
    "#### Usage in Statistical Analysis\n",
    "\n",
    "#### Covariance\n",
    "- **Portfolio Theory**: Used to understand the relationship between different assets.\n",
    "- **Risk Management**: Helps in identifying how different risk factors co-move.\n",
    "\n",
    "#### Correlation\n",
    "- **Regression Analysis**: Helps in identifying the strength and direction of linear relationships between variables.\n",
    "- **Feature Selection**: Used to select features with strong relationships with the target variable in machine learning.\n",
    "- **Data Analysis**: Provides insights into the relationships between variables, aiding in data interpretation.\n",
    "\n",
    "#### Example\n",
    "\n",
    "Consider the following dataset:\n",
    "\n",
    "\\[ X = [1, 2, 3, 4, 5] \\]\n",
    "\\[ Y = [2, 4, 6, 8, 10] \\]\n",
    "\n",
    "We will calculate both covariance and correlation using Python.\n",
    "\n"
   ]
  },
  {
   "cell_type": "code",
   "execution_count": 32,
   "metadata": {},
   "outputs": [
    {
     "data": {
      "text/plain": [
       "(5.0, 0.9999999999999999)"
      ]
     },
     "execution_count": 32,
     "metadata": {},
     "output_type": "execute_result"
    }
   ],
   "source": [
    "import numpy as np\n",
    "\n",
    "# Data\n",
    "X = [1, 2, 3, 4, 5]\n",
    "Y = [2, 4, 6, 8, 10]\n",
    "\n",
    "# Covariance\n",
    "covariance = np.cov(X, Y)[0][1]\n",
    "\n",
    "# Correlation\n",
    "correlation = np.corrcoef(X, Y)[0][1]\n",
    "\n",
    "covariance,correlation"
   ]
  },
  {
   "cell_type": "markdown",
   "metadata": {},
   "source": [
    "#### Q11. What is the formula for calculating the sample mean? Provide an example calculation for a dataset."
   ]
  },
  {
   "cell_type": "markdown",
   "metadata": {},
   "source": [
    "#### Sample Mean\n",
    "\n",
    "#### Definition\n",
    "The sample mean is the average of a set of numerical values from a sample. It is a measure of central tendency that summarizes the data by a single value, representing the typical value in the dataset.\n",
    "\n",
    "#### Formula\n",
    "The sample mean (\\( \\bar{X} \\)) is calculated using the formula:\n",
    "\\[ \\bar{X} = \\frac{1}{n} \\sum_{i=1}^{n} X_i \\]\n",
    "where:\n",
    "- \\( n \\) is the number of observations in the sample.\n",
    "- \\( X_i \\) represents each individual observation.\n",
    "\n",
    "#### Example Calculation\n",
    "\n",
    "Consider the following dataset:\n",
    "\\[ X = [4, 8, 6, 5, 3, 9, 7] \\]\n",
    "\n",
    "We will calculate the sample mean for this dataset.\n",
    "\n",
    "##### Calculation Steps\n",
    "1. Sum all the observations: \\( 4 + 8 + 6 + 5 + 3 + 9 + 7 = 42 \\)\n",
    "2. Count the number of observations: \\( n = 7 \\)\n",
    "3. Apply the formula: \\( \\bar{X} = \\frac{42}{7} = 6 \\)\n",
    "\n",
    "The sample mean is 6.\n",
    "\n",
    "##### Calculation Using Python"
   ]
  },
  {
   "cell_type": "code",
   "execution_count": 36,
   "metadata": {},
   "outputs": [
    {
     "data": {
      "text/plain": [
       "6.0"
      ]
     },
     "execution_count": 36,
     "metadata": {},
     "output_type": "execute_result"
    }
   ],
   "source": [
    "import numpy as np\n",
    "\n",
    "# Dataset\n",
    "X = [4, 8, 6, 5, 3, 9, 7]\n",
    "\n",
    "# Sample Mean\n",
    "sample_mean = np.mean(X)\n",
    "\n",
    "sample_mean\n"
   ]
  },
  {
   "cell_type": "markdown",
   "metadata": {},
   "source": [
    "#### Q12. For a normal distribution data what is the relationship between its measure of central tendency?"
   ]
  },
  {
   "cell_type": "markdown",
   "metadata": {},
   "source": [
    "#### Measures of Central Tendency in a Normal Distribution\n",
    "\n",
    "#### Definition\n",
    "A normal distribution, also known as a Gaussian distribution, is a symmetric, bell-shaped distribution where most of the observations cluster around the central peak and the probabilities for values taper off equally on both sides. It is defined by its mean (\\( \\mu \\)) and standard deviation (\\( \\sigma \\)).\n",
    "\n",
    "#### Relationship Between Measures of Central Tendency\n",
    "In a normal distribution, the mean, median, and mode are all equal. This unique property is due to the symmetry of the distribution around its central peak.\n",
    "\n",
    "#### Mean (\\( \\mu \\))\n",
    "The mean is the average of all the data points in the distribution. It is the point where the distribution balances.\n",
    "\n",
    "#### Median\n",
    "The median is the middle value when the data points are ordered. In a normal distribution, it is also the point that divides the area under the curve into two equal halves.\n",
    "\n",
    "#### Mode\n",
    "The mode is the value that appears most frequently in the dataset. For a normal distribution, the mode corresponds to the peak of the bell curve.\n",
    "\n",
    "#### Summary\n",
    "- **Mean = Median = Mode**\n",
    "\n",
    "#### Visual Representation\n",
    "\n",
    "To illustrate the relationship, we will plot a normal distribution using Python and highlight the mean, median, and mode.\n",
    "\n"
   ]
  },
  {
   "cell_type": "code",
   "execution_count": 37,
   "metadata": {},
   "outputs": [
    {
     "data": {
      "image/png": "[encoded data removed]",
      "text/plain": [
       "<Figure size 1000x600 with 1 Axes>"
      ]
     },
     "metadata": {},
     "output_type": "display_data"
    }
   ],
   "source": [
    "\n",
    "import numpy as np\n",
    "import matplotlib.pyplot as plt\n",
    "from scipy.stats import norm\n",
    "\n",
    "# Generate data for a normal distribution\n",
    "mu, sigma = 0, 1  # mean and standard deviation\n",
    "x = np.linspace(-3*sigma, 3*sigma, 100)\n",
    "y = norm.pdf(x, mu, sigma)\n",
    "\n",
    "# Plot the normal distribution\n",
    "plt.figure(figsize=(10, 6))\n",
    "plt.plot(x, y, label='Normal Distribution')\n",
    "plt.axvline(mu, color='r', linestyle='dashed', linewidth=2, label='Mean = Median = Mode')\n",
    "plt.title('Normal Distribution with Mean, Median, and Mode')\n",
    "plt.xlabel('Value')\n",
    "plt.ylabel('Probability Density')\n",
    "plt.legend()\n",
    "plt.show()\n"
   ]
  },
  {
   "cell_type": "markdown",
   "metadata": {},
   "source": [
    "#### Q13. How is covariance different from correlation?"
   ]
  },
  {
   "cell_type": "markdown",
   "metadata": {},
   "source": [
    "Covariance and correlation are both statistical concepts used to measure the relationship between two variables. However, they differ in the following ways:\n",
    "\n",
    "##### Units: \n",
    "Covariance is measured in units that are the product of the units of the two variables. On the other hand, correlation is dimensionless, i.e., it is a unit-free measure of the relationship between variables.\n",
    "\n",
    "##### Range: \n",
    "The range of values that covariance can take is not fixed, it can be any number between negative infinity and positive infinity. Correlation, however, is normalized, meaning it ranges between -1 and 1.\n",
    "\n",
    "##### Interpretability:\n",
    " Because of its normalization, correlation is more interpretable than covariance. A correlation of -1 indicates a perfect negative linear relationship between variables, a correlation of 1 indicates a perfect positive linear relationship, and a correlation of 0 indicates no linear relationship.\n",
    "\n",
    "#### Scale sensitivity: \n",
    "Covariance is sensitive to changes in scale. If all values of one variable are multiplied by a constant, the covariance will also change. Correlation, however, is not affected by changes in the center (mean) or scale (standard deviation) of the variables.\n",
    "\n",
    "In summary, while both covariance and correlation measure the relationship between variables, correlation is generally a more useful measure because it is normalized and therefore not affected by the scale of the variables, and it provides a more interpretable metric of the strength and direction of the relationship"
   ]
  },
  {
   "cell_type": "markdown",
   "metadata": {},
   "source": [
    "#### Q14. How do outliers affect measures of central tendency and dispersion? Provide an example."
   ]
  },
  {
   "cell_type": "markdown",
   "metadata": {},
   "source": [
    "Outliers can significantly affect both measures of central tendency (mean, median, mode) and measures of dispersion (range, variance, standard deviation).\n",
    "\n",
    "##### Central Tendency: \n",
    "The mean is highly sensitive to outliers. A single outlier can shift the mean significantly, making it a less accurate representation of the central tendency of the data. The median and mode are less affected by outliers. The median only considers the middle value(s), and the mode is based on the most frequent value, so they can remain unchanged even with the presence of outliers.\n",
    "\n",
    "For example, consider the dataset [1, 2, 3, 4, 5]. The mean is 3. If we add an outlier, say 100, the new dataset is [1, 2, 3, 4, 5, 100] and the mean becomes 19.17, which is significantly different from the original mean.\n",
    "\n",
    "##### Dispersion: \n",
    " Outliers can greatly affect measures of dispersion. The range, variance, and standard deviation are all sensitive to outliers. The range is directly influenced by the minimum and maximum values, so an outlier can greatly increase the range. Variance and standard deviation are based on the mean, so an outlier that affects the mean can also affect these measures.\n",
    "\n",
    "Continuing the previous example, the range of the original dataset [1, 2, 3, 4, 5] is 4. With the outlier, the range of [1, 2, 3, 4, 5, 100] becomes 99. The standard deviation increases from 1.41 to 38.48.\n",
    "\n",
    "In summary, outliers can significantly affect the statistical properties of a dataset. Therefore, it's important to identify and handle outliers appropriately during data analysis."
   ]
  },
  {
   "cell_type": "markdown",
   "metadata": {},
   "source": []
  },
  {
   "cell_type": "markdown",
   "metadata": {},
   "source": []
  }
 ],
 "metadata": {
  "kernelspec": {
   "display_name": "Python 3",
   "language": "python",
   "name": "python3"
  },
  "language_info": {
   "codemirror_mode": {
    "name": "ipython",
    "version": 3
   },
   "file_extension": ".py",
   "mimetype": "text/x-python",
   "name": "python",
   "nbconvert_exporter": "python",
   "pygments_lexer": "ipython3",
   "version": "3.11.4"
  }
 },
 "nbformat": 4,
 "nbformat_minor": 2
}
